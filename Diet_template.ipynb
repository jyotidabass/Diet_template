{
  "nbformat": 4,
  "nbformat_minor": 0,
  "metadata": {
    "colab": {
      "name": "Diet_template.ipynb",
      "provenance": [],
      "authorship_tag": "ABX9TyM1msLLexHpRo5+cqXhC+ZD",
      "include_colab_link": true
    },
    "kernelspec": {
      "name": "python3",
      "display_name": "Python 3"
    },
    "language_info": {
      "name": "python"
    }
  },
  "cells": [
    {
      "cell_type": "markdown",
      "metadata": {
        "id": "view-in-github",
        "colab_type": "text"
      },
      "source": [
        "<a href=\"https://colab.research.google.com/github/jyotidabass/Diet_template/blob/main/Diet_template.ipynb\" target=\"_parent\"><img src=\"https://colab.research.google.com/assets/colab-badge.svg\" alt=\"Open In Colab\"/></a>"
      ]
    },
    {
      "cell_type": "code",
      "execution_count": 1,
      "metadata": {
        "id": "-1D4qKTzM3Jq"
      },
      "outputs": [],
      "source": [
        "import pandas as pd\n",
        "from sklearn import preprocessing\n",
        "from sklearn.tree import DecisionTreeClassifier,_tree\n",
        "import numpy as np\n",
        "from sklearn.model_selection import train_test_split\n",
        "from sklearn import model_selection\n",
        "from sklearn.tree import export_graphviz\n",
        "import warnings\n",
        "warnings.filterwarnings(\"ignore\", category=DeprecationWarning)"
      ]
    },
    {
      "cell_type": "code",
      "source": [
        "training = pd.read_csv('/content/training1.csv')\n",
        "testing  = pd.read_csv('/content/testing 1.csv')\n",
        "cols     = training.columns\n",
        "cols     = cols[:-1]\n",
        "x        = training[cols]\n",
        "y        = training['prognosis']\n",
        "y1       = y"
      ],
      "metadata": {
        "id": "mMNm49U6M8Ar"
      },
      "execution_count": 2,
      "outputs": []
    },
    {
      "cell_type": "code",
      "source": [
        "reduced_data = training.groupby(training['prognosis']).max()\n",
        "\n",
        "#mapping strings to numbers\n",
        "le = preprocessing.LabelEncoder()\n",
        "le.fit(y)\n",
        "y = le.transform(y)"
      ],
      "metadata": {
        "id": "9OZzB3XwSSaK"
      },
      "execution_count": 5,
      "outputs": []
    },
    {
      "cell_type": "code",
      "source": [
        "x_train, x_test, y_train, y_test = train_test_split(x, y, test_size=0.33, random_state=42)\n",
        "testx    = testing[cols]\n",
        "testy    = testing['prognosis']  \n",
        "testy    = le.transform(testy)"
      ],
      "metadata": {
        "id": "GTf9boxZSEJN"
      },
      "execution_count": 11,
      "outputs": []
    },
    {
      "cell_type": "code",
      "source": [
        "clf1  = DecisionTreeClassifier()\n",
        "clf = clf1.fit(x_train,y_train)\n",
        "print(clf.score(x_train,y_train))\n",
        "print (\"cross result========\")\n",
        "#scores = cross_validation.cross_val_score(clf, x_test, y_test, cv=3)\n",
        "#print (scores)\n",
        "#print (scores.mean())\n",
        "#print(clf.score(testx,testy))\n",
        "\n",
        "importances = clf.feature_importances_\n",
        "indices = np.argsort(importances)[::-1]\n",
        "features = cols"
      ],
      "metadata": {
        "colab": {
          "base_uri": "https://localhost:8080/"
        },
        "id": "mxK3_yMIR7iI",
        "outputId": "dd11c65c-faef-4820-9d0e-07cad6cbbac4"
      },
      "execution_count": 12,
      "outputs": [
        {
          "output_type": "stream",
          "name": "stdout",
          "text": [
            "1.0\n",
            "cross result========\n"
          ]
        }
      ]
    },
    {
      "cell_type": "code",
      "source": [
        "#feature_importances\n",
        "#for f in range(10):\n",
        "#    print(\"%d. feature %d - %s (%f)\" % (f + 1, indices[f], features[indices[f]] ,importances[indices[f]]))\n",
        "\n",
        "print(\"Please reply Yes or No for the following symptoms\") \n",
        "def print_disease(node):\n",
        "    #print(node)\n",
        "    node = node[0]\n",
        "    #print(len(node))\n",
        "    val  = node.nonzero() \n",
        "    #print(val)\n",
        "    disease = le.inverse_transform(val[0])\n",
        "    return disease\n",
        "def tree_to_code(tree, feature_names):\n",
        "    tree_ = tree.tree_\n",
        "    #print(tree_)\n",
        "    feature_name = [\n",
        "        feature_names[i] if i != _tree.TREE_UNDEFINED else \"undefined!\"\n",
        "        for i in tree_.feature\n",
        "    ]\n",
        "    #print(\"def tree({}):\".format(\", \".join(feature_names)))\n",
        "    symptoms_present = []\n",
        "    def recurse(node, depth):\n",
        "        indent = \"  \" * depth\n",
        "        if tree_.feature[node] != _tree.TREE_UNDEFINED:\n",
        "            name = feature_name[node]\n",
        "            threshold = tree_.threshold[node]\n",
        "            print(name + \" ?\")\n",
        "            ans = input()\n",
        "            ans = ans.lower()\n",
        "            if ans == 'yes':\n",
        "                val = 1\n",
        "            else:\n",
        "                val = 0\n",
        "            if  val <= threshold:\n",
        "                recurse(tree_.children_left[node], depth + 1)\n",
        "            else:\n",
        "                symptoms_present.append(name)\n",
        "                recurse(tree_.children_right[node], depth + 1)\n",
        "        else:\n",
        "            present_disease = print_disease(tree_.value[node])\n",
        "            print( \"You may have diet template as \" +  present_disease )\n",
        "            red_cols = reduced_data.columns \n",
        "            symptoms_given = red_cols[reduced_data.loc[present_disease].values[0].nonzero()]\n",
        "            print(\"symptoms present  \" + str(list(symptoms_present)))\n",
        "            print(\"symptoms given \"  +  str(list(symptoms_given)) )  \n",
        "            confidence_level = (1.0*len(symptoms_present))/len(symptoms_given)\n",
        "            print(\"confidence level is \" + str(confidence_level))\n",
        "\n",
        "    recurse(0, 1)\n",
        "\n",
        "tree_to_code(clf,cols)"
      ],
      "metadata": {
        "colab": {
          "base_uri": "https://localhost:8080/"
        },
        "id": "BYhQAGXbSWzp",
        "outputId": "0116c746-6d2e-47eb-d18a-b095d13a4da6"
      },
      "execution_count": 13,
      "outputs": [
        {
          "output_type": "stream",
          "name": "stdout",
          "text": [
            "Please reply Yes or No for the following symptoms\n",
            "vikriti_kapha ?\n",
            "yes\n",
            "prakriti_vata ?\n",
            "no\n",
            "['You may have diet template as kapha']\n",
            "symptoms present  ['vikriti_kapha']\n",
            "symptoms given ['prakriti_kapha', 'vikriti_kapha']\n",
            "confidence level is 0.5\n"
          ]
        }
      ]
    }
  ]
}